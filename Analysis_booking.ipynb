{
  "nbformat": 4,
  "nbformat_minor": 0,
  "metadata": {
    "colab": {
      "provenance": [],
      "mount_file_id": "1jLiy1DIM12v_A-oJ2ab_A4sR1U-aY9lh",
      "authorship_tag": "ABX9TyMNIt8cKJbMYHH7/hxTM1wF",
      "include_colab_link": true
    },
    "kernelspec": {
      "name": "python3",
      "display_name": "Python 3"
    },
    "language_info": {
      "name": "python"
    }
  },
  "cells": [
    {
      "cell_type": "markdown",
      "metadata": {
        "id": "view-in-github",
        "colab_type": "text"
      },
      "source": [
        "<a href=\"https://colab.research.google.com/github/RebeccaBZ/Hotel_Booking_Case_Study/blob/main/Analysis_booking.ipynb\" target=\"_parent\"><img src=\"https://colab.research.google.com/assets/colab-badge.svg\" alt=\"Open In Colab\"/></a>"
      ]
    },
    {
      "cell_type": "code",
      "source": [
        "pip install pyspark"
      ],
      "metadata": {
        "colab": {
          "base_uri": "https://localhost:8080/"
        },
        "id": "OsifdxsmhSgU",
        "outputId": "ed84dc4e-8faf-4292-f77e-a585acfd28d6"
      },
      "execution_count": 8,
      "outputs": [
        {
          "output_type": "stream",
          "name": "stdout",
          "text": [
            "Requirement already satisfied: pyspark in /usr/local/lib/python3.10/dist-packages (3.4.1)\n",
            "Requirement already satisfied: py4j==0.10.9.7 in /usr/local/lib/python3.10/dist-packages (from pyspark) (0.10.9.7)\n"
          ]
        }
      ]
    },
    {
      "cell_type": "code",
      "source": [
        "from pyspark.sql import SparkSession\n",
        "spark= SparkSession.builder\\\n",
        ".appName(\"booking_analysis\")\\\n",
        ".getOrCreate()"
      ],
      "metadata": {
        "id": "ZlieffLShXwI"
      },
      "execution_count": 9,
      "outputs": []
    },
    {
      "cell_type": "code",
      "source": [
        "df= spark.read.csv(\"hotels_booking.csv\", header= True)"
      ],
      "metadata": {
        "id": "kHYZLqDhhoA4"
      },
      "execution_count": 10,
      "outputs": []
    },
    {
      "cell_type": "code",
      "source": [
        "df.printSchema()\n",
        "df.columns\n",
        "\n",
        "# no changes to the column names is required since they are already written in the correct format"
      ],
      "metadata": {
        "id": "hfb1XOnjhvNo",
        "colab": {
          "base_uri": "https://localhost:8080/"
        },
        "outputId": "bf776fbc-9b01-4274-ed0c-6df60c83744f"
      },
      "execution_count": 11,
      "outputs": [
        {
          "output_type": "stream",
          "name": "stdout",
          "text": [
            "root\n",
            " |-- hotel_name: string (nullable = true)\n",
            " |-- location: string (nullable = true)\n",
            " |-- distance_from_beirut: string (nullable = true)\n",
            " |-- number_reviews: string (nullable = true)\n",
            " |-- distance_from_beach: string (nullable = true)\n",
            " |-- sustainability_level: string (nullable = true)\n",
            " |-- room_type: string (nullable = true)\n",
            " |-- cancellation_policy: string (nullable = true)\n",
            " |-- hotel_policies: string (nullable = true)\n",
            " |-- rating: string (nullable = true)\n",
            " |-- rating_tile: string (nullable = true)\n",
            " |-- price: string (nullable = true)\n",
            " |-- additional_charges: string (nullable = true)\n",
            " |-- link: string (nullable = true)\n",
            "\n"
          ]
        },
        {
          "output_type": "execute_result",
          "data": {
            "text/plain": [
              "['hotel_name',\n",
              " 'location',\n",
              " 'distance_from_beirut',\n",
              " 'number_reviews',\n",
              " 'distance_from_beach',\n",
              " 'sustainability_level',\n",
              " 'room_type',\n",
              " 'cancellation_policy',\n",
              " 'hotel_policies',\n",
              " 'rating',\n",
              " 'rating_tile',\n",
              " 'price',\n",
              " 'additional_charges',\n",
              " 'link']"
            ]
          },
          "metadata": {},
          "execution_count": 11
        }
      ]
    },
    {
      "cell_type": "code",
      "source": [
        "rows= df.count()\n",
        "print(\"The number of rows in the schema is:\", rows)\n",
        "# counted the number of rows but there is one additional since the number of hotels available is 39 and not 40 in the city of beirut\n",
        "# this is because an hotel is pinned and hence appears in both pages counting it twice\n",
        "\n",
        "df= df.dropDuplicates()\n",
        "rows2= df.count()\n",
        "print(\"The edited number of rows in the schema is:\", rows2)\n",
        "# the above dosn't drop out the duplicate rows since the link has minor changes\n",
        "\n",
        "# I will remove the second one, any would do the job since same data would be displayed by both links\n",
        "df= df.filter(df[\"link\"]!=\"https://www.booking.com/hotel/lb/rawsheh-51.en-gb.html?label=gen173nr-1FCAMoggFCBmJlaXJ1dEgJWARoggGIAQGYAQm4ARfIAQzYAQHoAQH4AQKIAgGoAgO4AsibjKgGwAIB0gIkMTcyNDkzZmUtZWExNS00MThjLWI2OGUtODRmMmI2ZmZiNTI22AIF4AIB&aid=304142&ucfs=1&arphpl=1&checkin=2024-08-05&checkout=2024-08-10&dest_id=-801546&dest_type=city&group_adults=2&req_adults=2&no_rooms=1&group_children=0&req_children=0&hpos=1&hapos=26&sr_order=popularity&srpvid=689563ce8ce606a1&srepoch=1694959902&soh=1&from_sustainable_property_sr=1&from=searchresults#no_availability_msg\")\n",
        "rows3= df.count()\n",
        "print(\"The edited number of rows in the schema is:\", rows3)\n",
        "\n",
        "df.show()"
      ],
      "metadata": {
        "id": "-sUGBLGNiFth",
        "colab": {
          "base_uri": "https://localhost:8080/"
        },
        "outputId": "d6617415-5c63-4e96-84f8-cfaa3f195e2f"
      },
      "execution_count": 12,
      "outputs": [
        {
          "output_type": "stream",
          "name": "stdout",
          "text": [
            "The number of rows in the schema is: 40\n",
            "The edited number of rows in the schema is: 40\n",
            "The edited number of rows in the schema is: 40\n",
            "+--------------------+--------------------+--------------------+--------------+-------------------+--------------------+--------------------+-------------------+--------------------+------+------------+------------------+--------------------+--------------------+\n",
            "|          hotel_name|            location|distance_from_beirut|number_reviews|distance_from_beach|sustainability_level|           room_type|cancellation_policy|      hotel_policies|rating| rating_tile|             price|  additional_charges|                link|\n",
            "+--------------------+--------------------+--------------------+--------------+-------------------+--------------------+--------------------+-------------------+--------------------+------+------------+------------------+--------------------+--------------------+\n",
            "|Radisson Blu Hote...|     Verdun , Beirut|    2 km from centre|   980 reviews|   400 m from beach|Travel Sustainabl...|       Standard Room|                N/A|                  []|   8.8|    Fabulous|          765.3555|+MXN 1,439 taxes ...|https://www.booki...|\n",
            "|Divan Hotel Apart...|       Hamra, Beirut|  1.7 km from centre|   436 reviews|  1.6 km from beach|                 N/A|    Studio Apartment|  Free cancellation|['Free cancellati...|   7.3|        Good|          250.0875|+MXN 470 taxes an...|https://www.booki...|\n",
            "|          Rawsheh 51|     Raouche, Beirut|  2.4 km from centre| 1,533 reviews|   450 m from beach|                 N/A|                 N/A|                N/A|                  []|   7.8|        Good|               N/A|                 N/A|https://www.booki...|\n",
            "|          Rawsheh 51|     Raouche, Beirut|  2.4 km from centre| 1,533 reviews|   450 m from beach|                 N/A|                 N/A|                N/A|                  []|   7.8|        Good|               N/A|                 N/A|https://www.booki...|\n",
            "| The Mayflower Hotel|       Hamra, Beirut|  1.8 km from centre|   751 reviews|  1.5 km from beach|Travel Sustainabl...| Standard Queen Room|                N/A|                  []|   6.9|Review score|389.90250000000003|+MXN 733 taxes an...|https://www.booki...|\n",
            "|Orient Queen Home...|              Beirut|  1.3 km from centre| 1,104 reviews|    2 km from beach|Travel Sustainabl...|  Deluxe Single Room|  Free cancellation|['Free cancellati...|   7.3|        Good|          712.8225|+MXN 1,340 taxes ...|https://www.booki...|\n",
            "| Hamra Urban Gardens|       Hamra, Beirut|  1.3 km from centre|   600 reviews|  1.6 km from beach|Travel Sustainabl...|Standard Double Room|  Free cancellation|['Free cancellati...|   8.2|   Very good|           341.406|Includes taxes an...|https://www.booki...|\n",
            "|Bayview Hotel Beirut|              Beirut|  1.1 km from centre|   387 reviews|         Beachfront|Travel Sustainabl...|Classic Double Ro...|                N/A|                  []|   8.0|   Very good|          720.3105|+MXN 1,354 taxes ...|https://www.booki...|\n",
            "|Staybridge Suites...|              Beirut|  1.6 km from centre|   251 reviews|  1.1 km from beach|                 N/A|King Studio Suite...|                N/A|                  []|   8.6|    Fabulous| 855.3870000000001|+MXN 1,608 taxes ...|https://www.booki...|\n",
            "|Ramada Plaza by W...|              Beirut|  2.5 km from centre|   143 reviews|   950 m from beach|Travel Sustainabl...|Classic King Room...|  Free cancellation|['Free cancellati...|   7.9|        Good|           800.397|+MXN 1,505 taxes ...|https://www.booki...|\n",
            "|            WH Hotel|              Beirut|  1.7 km from centre|     8 reviews|  1.2 km from beach|Travel Sustainabl...|     Executive Suite|  Free cancellation|['Free cancellati...|   8.6|    Fabulous| 675.3240000000001|+MXN 1,270 taxes ...|https://www.booki...|\n",
            "|        Padova Hotel|              Beirut|  4.2 km from centre|   262 reviews|                N/A|                 N/A|         Double Room|  Free cancellation|['Free cancellati...|   7.9|        Good|500.23350000000005|+MXN 941 taxes an...|https://www.booki...|\n",
            "|Four Points By Sh...|     Verdun , Beirut|    2 km from centre|   275 reviews|   500 m from beach|Travel Sustainabl...|Classic Room, Gue...|  Free cancellation|['Free cancellati...|   8.0|   Very good|500.23350000000005|+MXN 941 taxes an...|https://www.booki...|\n",
            "|Beverly Hotel Beirut|              Beirut|  0.9 km from centre| 1,898 reviews|  2.5 km from beach|                 N/A|Deluxe King Room ...|  Free cancellation|['Free cancellati...|   8.9|    Fabulous|475.19550000000004|+MXN 894 taxes an...|https://www.booki...|\n",
            "|InterContinental ...|              Beirut|  0.7 km from centre|   309 reviews|  2.5 km from beach|Travel Sustainabl...|Superior Queen Ro...|                N/A|                  []|   8.9|    Fabulous|         1260.6165|+MXN 2,370 taxes ...|https://www.booki...|\n",
            "|Royal Tulip Achra...|   Achrafieh, Beirut|  2.5 km from centre|   425 reviews|                N/A|                 N/A|    Deluxe King Room|                N/A|                  []|   8.1|   Very good| 742.8330000000001|+MXN 1,397 taxes ...|https://www.booki...|\n",
            "|      Arthaus Beirut|              Beirut|  1.2 km from centre|   195 reviews|                N/A|Travel Sustainabl...|   Small Double Room|                N/A|                  []|   8.8|    Fabulous|1913.4180000000001|+MXN 3,598 taxes ...|https://www.booki...|\n",
            "|      Hotel De Ville|Ras El Nabaa, Beirut|  1.9 km from centre|   406 reviews|  2.8 km from beach|Travel Sustainabl...|Standard Double o...|                N/A|                  []|   8.3|   Very good|           517.725|+MXN 974 taxes an...|https://www.booki...|\n",
            "|Raouche Arjaan by...|              Beirut|  2.7 km from centre|   832 reviews|  1.1 km from beach|Travel Sustainabl...|City View Studio ...|                N/A|                  []|   7.6|        Good|           722.826|+MXN 1,359 taxes ...|https://www.booki...|\n",
            "|Warwick Stone 55 ...|              Beirut|    7 km from centre|   235 reviews|                N/A|                 N/A|Standard Deluxe R...|  Free cancellation|['Free cancellati...|   8.6|    Fabulous|          680.2965|+MXN 1,279 taxes ...|https://www.booki...|\n",
            "+--------------------+--------------------+--------------------+--------------+-------------------+--------------------+--------------------+-------------------+--------------------+------+------------+------------------+--------------------+--------------------+\n",
            "only showing top 20 rows\n",
            "\n"
          ]
        }
      ]
    },
    {
      "cell_type": "code",
      "source": [
        "from pyspark.sql import functions as F\n",
        "\n",
        "df = df.withColumn(\"number_reviews\", F.regexp_extract(df[\"number_reviews\"], r\"(\\d+)\", 1))\n",
        "df= df.withColumn(\"number_reviews\", F.col(\"number_reviews\").cast(\"Integer\"))\n",
        "\n",
        "df.printSchema()\n",
        "\n",
        "df.show()"
      ],
      "metadata": {
        "id": "mnIJFA2NpNJe",
        "colab": {
          "base_uri": "https://localhost:8080/"
        },
        "outputId": "33b3a092-219b-4850-db8a-4cfbcb7a24be"
      },
      "execution_count": 13,
      "outputs": [
        {
          "output_type": "stream",
          "name": "stdout",
          "text": [
            "root\n",
            " |-- hotel_name: string (nullable = true)\n",
            " |-- location: string (nullable = true)\n",
            " |-- distance_from_beirut: string (nullable = true)\n",
            " |-- number_reviews: integer (nullable = true)\n",
            " |-- distance_from_beach: string (nullable = true)\n",
            " |-- sustainability_level: string (nullable = true)\n",
            " |-- room_type: string (nullable = true)\n",
            " |-- cancellation_policy: string (nullable = true)\n",
            " |-- hotel_policies: string (nullable = true)\n",
            " |-- rating: string (nullable = true)\n",
            " |-- rating_tile: string (nullable = true)\n",
            " |-- price: string (nullable = true)\n",
            " |-- additional_charges: string (nullable = true)\n",
            " |-- link: string (nullable = true)\n",
            "\n",
            "+--------------------+--------------------+--------------------+--------------+-------------------+--------------------+--------------------+-------------------+--------------------+------+------------+------------------+--------------------+--------------------+\n",
            "|          hotel_name|            location|distance_from_beirut|number_reviews|distance_from_beach|sustainability_level|           room_type|cancellation_policy|      hotel_policies|rating| rating_tile|             price|  additional_charges|                link|\n",
            "+--------------------+--------------------+--------------------+--------------+-------------------+--------------------+--------------------+-------------------+--------------------+------+------------+------------------+--------------------+--------------------+\n",
            "|Radisson Blu Hote...|     Verdun , Beirut|    2 km from centre|           980|   400 m from beach|Travel Sustainabl...|       Standard Room|                N/A|                  []|   8.8|    Fabulous|          765.3555|+MXN 1,439 taxes ...|https://www.booki...|\n",
            "|Divan Hotel Apart...|       Hamra, Beirut|  1.7 km from centre|           436|  1.6 km from beach|                 N/A|    Studio Apartment|  Free cancellation|['Free cancellati...|   7.3|        Good|          250.0875|+MXN 470 taxes an...|https://www.booki...|\n",
            "|          Rawsheh 51|     Raouche, Beirut|  2.4 km from centre|             1|   450 m from beach|                 N/A|                 N/A|                N/A|                  []|   7.8|        Good|               N/A|                 N/A|https://www.booki...|\n",
            "|          Rawsheh 51|     Raouche, Beirut|  2.4 km from centre|             1|   450 m from beach|                 N/A|                 N/A|                N/A|                  []|   7.8|        Good|               N/A|                 N/A|https://www.booki...|\n",
            "| The Mayflower Hotel|       Hamra, Beirut|  1.8 km from centre|           751|  1.5 km from beach|Travel Sustainabl...| Standard Queen Room|                N/A|                  []|   6.9|Review score|389.90250000000003|+MXN 733 taxes an...|https://www.booki...|\n",
            "|Orient Queen Home...|              Beirut|  1.3 km from centre|             1|    2 km from beach|Travel Sustainabl...|  Deluxe Single Room|  Free cancellation|['Free cancellati...|   7.3|        Good|          712.8225|+MXN 1,340 taxes ...|https://www.booki...|\n",
            "| Hamra Urban Gardens|       Hamra, Beirut|  1.3 km from centre|           600|  1.6 km from beach|Travel Sustainabl...|Standard Double Room|  Free cancellation|['Free cancellati...|   8.2|   Very good|           341.406|Includes taxes an...|https://www.booki...|\n",
            "|Bayview Hotel Beirut|              Beirut|  1.1 km from centre|           387|         Beachfront|Travel Sustainabl...|Classic Double Ro...|                N/A|                  []|   8.0|   Very good|          720.3105|+MXN 1,354 taxes ...|https://www.booki...|\n",
            "|Staybridge Suites...|              Beirut|  1.6 km from centre|           251|  1.1 km from beach|                 N/A|King Studio Suite...|                N/A|                  []|   8.6|    Fabulous| 855.3870000000001|+MXN 1,608 taxes ...|https://www.booki...|\n",
            "|Ramada Plaza by W...|              Beirut|  2.5 km from centre|           143|   950 m from beach|Travel Sustainabl...|Classic King Room...|  Free cancellation|['Free cancellati...|   7.9|        Good|           800.397|+MXN 1,505 taxes ...|https://www.booki...|\n",
            "|            WH Hotel|              Beirut|  1.7 km from centre|             8|  1.2 km from beach|Travel Sustainabl...|     Executive Suite|  Free cancellation|['Free cancellati...|   8.6|    Fabulous| 675.3240000000001|+MXN 1,270 taxes ...|https://www.booki...|\n",
            "|        Padova Hotel|              Beirut|  4.2 km from centre|           262|                N/A|                 N/A|         Double Room|  Free cancellation|['Free cancellati...|   7.9|        Good|500.23350000000005|+MXN 941 taxes an...|https://www.booki...|\n",
            "|Four Points By Sh...|     Verdun , Beirut|    2 km from centre|           275|   500 m from beach|Travel Sustainabl...|Classic Room, Gue...|  Free cancellation|['Free cancellati...|   8.0|   Very good|500.23350000000005|+MXN 941 taxes an...|https://www.booki...|\n",
            "|Beverly Hotel Beirut|              Beirut|  0.9 km from centre|             1|  2.5 km from beach|                 N/A|Deluxe King Room ...|  Free cancellation|['Free cancellati...|   8.9|    Fabulous|475.19550000000004|+MXN 894 taxes an...|https://www.booki...|\n",
            "|InterContinental ...|              Beirut|  0.7 km from centre|           309|  2.5 km from beach|Travel Sustainabl...|Superior Queen Ro...|                N/A|                  []|   8.9|    Fabulous|         1260.6165|+MXN 2,370 taxes ...|https://www.booki...|\n",
            "|Royal Tulip Achra...|   Achrafieh, Beirut|  2.5 km from centre|           425|                N/A|                 N/A|    Deluxe King Room|                N/A|                  []|   8.1|   Very good| 742.8330000000001|+MXN 1,397 taxes ...|https://www.booki...|\n",
            "|      Arthaus Beirut|              Beirut|  1.2 km from centre|           195|                N/A|Travel Sustainabl...|   Small Double Room|                N/A|                  []|   8.8|    Fabulous|1913.4180000000001|+MXN 3,598 taxes ...|https://www.booki...|\n",
            "|      Hotel De Ville|Ras El Nabaa, Beirut|  1.9 km from centre|           406|  2.8 km from beach|Travel Sustainabl...|Standard Double o...|                N/A|                  []|   8.3|   Very good|           517.725|+MXN 974 taxes an...|https://www.booki...|\n",
            "|Raouche Arjaan by...|              Beirut|  2.7 km from centre|           832|  1.1 km from beach|Travel Sustainabl...|City View Studio ...|                N/A|                  []|   7.6|        Good|           722.826|+MXN 1,359 taxes ...|https://www.booki...|\n",
            "|Warwick Stone 55 ...|              Beirut|    7 km from centre|           235|                N/A|                 N/A|Standard Deluxe R...|  Free cancellation|['Free cancellati...|   8.6|    Fabulous|          680.2965|+MXN 1,279 taxes ...|https://www.booki...|\n",
            "+--------------------+--------------------+--------------------+--------------+-------------------+--------------------+--------------------+-------------------+--------------------+------+------------+------------------+--------------------+--------------------+\n",
            "only showing top 20 rows\n",
            "\n"
          ]
        }
      ]
    },
    {
      "cell_type": "code",
      "source": [
        "df= df.withColumn(\"rating\", F.col(\"rating\").cast(\"Double\"))"
      ],
      "metadata": {
        "id": "Xn2vSHRjtiMm"
      },
      "execution_count": 14,
      "outputs": []
    },
    {
      "cell_type": "code",
      "execution_count": 15,
      "metadata": {
        "id": "v7gfm7DdgPTb",
        "colab": {
          "base_uri": "https://localhost:8080/"
        },
        "outputId": "0b600d01-112d-46a3-aa28-e9abebfdf333"
      },
      "outputs": [
        {
          "output_type": "stream",
          "name": "stdout",
          "text": [
            "+--------------------+--------------------+--------------------+--------------+-------------------+--------------------+--------------------+-------------------+--------------------+------+------------+------------------+--------------------+--------------------+---------------+\n",
            "|          hotel_name|            location|distance_from_beirut|number_reviews|distance_from_beach|sustainability_level|           room_type|cancellation_policy|      hotel_policies|rating| rating_tile|             price|  additional_charges|                link|number_bookings|\n",
            "+--------------------+--------------------+--------------------+--------------+-------------------+--------------------+--------------------+-------------------+--------------------+------+------------+------------------+--------------------+--------------------+---------------+\n",
            "|Radisson Blu Hote...|     Verdun , Beirut|    2 km from centre|           980|   400 m from beach|Travel Sustainabl...|       Standard Room|                N/A|                  []|   8.8|    Fabulous|          765.3555|+MXN 1,439 taxes ...|https://www.booki...|         2450.0|\n",
            "|Divan Hotel Apart...|       Hamra, Beirut|  1.7 km from centre|           436|  1.6 km from beach|                 N/A|    Studio Apartment|  Free cancellation|['Free cancellati...|   7.3|        Good|          250.0875|+MXN 470 taxes an...|https://www.booki...|         1090.0|\n",
            "|          Rawsheh 51|     Raouche, Beirut|  2.4 km from centre|             1|   450 m from beach|                 N/A|                 N/A|                N/A|                  []|   7.8|        Good|               N/A|                 N/A|https://www.booki...|            2.5|\n",
            "|          Rawsheh 51|     Raouche, Beirut|  2.4 km from centre|             1|   450 m from beach|                 N/A|                 N/A|                N/A|                  []|   7.8|        Good|               N/A|                 N/A|https://www.booki...|            2.5|\n",
            "| The Mayflower Hotel|       Hamra, Beirut|  1.8 km from centre|           751|  1.5 km from beach|Travel Sustainabl...| Standard Queen Room|                N/A|                  []|   6.9|Review score|389.90250000000003|+MXN 733 taxes an...|https://www.booki...|         1877.5|\n",
            "|Orient Queen Home...|              Beirut|  1.3 km from centre|             1|    2 km from beach|Travel Sustainabl...|  Deluxe Single Room|  Free cancellation|['Free cancellati...|   7.3|        Good|          712.8225|+MXN 1,340 taxes ...|https://www.booki...|            2.5|\n",
            "| Hamra Urban Gardens|       Hamra, Beirut|  1.3 km from centre|           600|  1.6 km from beach|Travel Sustainabl...|Standard Double Room|  Free cancellation|['Free cancellati...|   8.2|   Very good|           341.406|Includes taxes an...|https://www.booki...|         1500.0|\n",
            "|Bayview Hotel Beirut|              Beirut|  1.1 km from centre|           387|         Beachfront|Travel Sustainabl...|Classic Double Ro...|                N/A|                  []|   8.0|   Very good|          720.3105|+MXN 1,354 taxes ...|https://www.booki...|          967.5|\n",
            "|Staybridge Suites...|              Beirut|  1.6 km from centre|           251|  1.1 km from beach|                 N/A|King Studio Suite...|                N/A|                  []|   8.6|    Fabulous| 855.3870000000001|+MXN 1,608 taxes ...|https://www.booki...|          627.5|\n",
            "|Ramada Plaza by W...|              Beirut|  2.5 km from centre|           143|   950 m from beach|Travel Sustainabl...|Classic King Room...|  Free cancellation|['Free cancellati...|   7.9|        Good|           800.397|+MXN 1,505 taxes ...|https://www.booki...|          357.5|\n",
            "|            WH Hotel|              Beirut|  1.7 km from centre|             8|  1.2 km from beach|Travel Sustainabl...|     Executive Suite|  Free cancellation|['Free cancellati...|   8.6|    Fabulous| 675.3240000000001|+MXN 1,270 taxes ...|https://www.booki...|           20.0|\n",
            "|        Padova Hotel|              Beirut|  4.2 km from centre|           262|                N/A|                 N/A|         Double Room|  Free cancellation|['Free cancellati...|   7.9|        Good|500.23350000000005|+MXN 941 taxes an...|https://www.booki...|          655.0|\n",
            "|Four Points By Sh...|     Verdun , Beirut|    2 km from centre|           275|   500 m from beach|Travel Sustainabl...|Classic Room, Gue...|  Free cancellation|['Free cancellati...|   8.0|   Very good|500.23350000000005|+MXN 941 taxes an...|https://www.booki...|          687.5|\n",
            "|Beverly Hotel Beirut|              Beirut|  0.9 km from centre|             1|  2.5 km from beach|                 N/A|Deluxe King Room ...|  Free cancellation|['Free cancellati...|   8.9|    Fabulous|475.19550000000004|+MXN 894 taxes an...|https://www.booki...|            2.5|\n",
            "|InterContinental ...|              Beirut|  0.7 km from centre|           309|  2.5 km from beach|Travel Sustainabl...|Superior Queen Ro...|                N/A|                  []|   8.9|    Fabulous|         1260.6165|+MXN 2,370 taxes ...|https://www.booki...|          772.5|\n",
            "|Royal Tulip Achra...|   Achrafieh, Beirut|  2.5 km from centre|           425|                N/A|                 N/A|    Deluxe King Room|                N/A|                  []|   8.1|   Very good| 742.8330000000001|+MXN 1,397 taxes ...|https://www.booki...|         1062.5|\n",
            "|      Arthaus Beirut|              Beirut|  1.2 km from centre|           195|                N/A|Travel Sustainabl...|   Small Double Room|                N/A|                  []|   8.8|    Fabulous|1913.4180000000001|+MXN 3,598 taxes ...|https://www.booki...|          487.5|\n",
            "|      Hotel De Ville|Ras El Nabaa, Beirut|  1.9 km from centre|           406|  2.8 km from beach|Travel Sustainabl...|Standard Double o...|                N/A|                  []|   8.3|   Very good|           517.725|+MXN 974 taxes an...|https://www.booki...|         1015.0|\n",
            "|Raouche Arjaan by...|              Beirut|  2.7 km from centre|           832|  1.1 km from beach|Travel Sustainabl...|City View Studio ...|                N/A|                  []|   7.6|        Good|           722.826|+MXN 1,359 taxes ...|https://www.booki...|         2080.0|\n",
            "|Warwick Stone 55 ...|              Beirut|    7 km from centre|           235|                N/A|                 N/A|Standard Deluxe R...|  Free cancellation|['Free cancellati...|   8.6|    Fabulous|          680.2965|+MXN 1,279 taxes ...|https://www.booki...|          587.5|\n",
            "+--------------------+--------------------+--------------------+--------------+-------------------+--------------------+--------------------+-------------------+--------------------+------+------------+------------------+--------------------+--------------------+---------------+\n",
            "only showing top 20 rows\n",
            "\n"
          ]
        }
      ],
      "source": [
        "# usually about 40% of people who booked a hotel room, leave a review hence we predict the number of bookings done up till this date for each hotel\n",
        "df= df.withColumn(\"number_bookings\", ((100*F.col(\"number_reviews\"))/40))\n",
        "df.show()\n",
        "\n"
      ]
    },
    {
      "cell_type": "code",
      "source": [
        "# extract the nb level\n",
        "df= df.replace(\"N/A\",\"0\")\n",
        "df = df.withColumn(\"sustainability_nb\", F.regexp_extract(df[\"sustainability_level\"], r\"(\\d+)\", 1))\n",
        "df.printSchema()\n",
        "\n",
        "df.show()"
      ],
      "metadata": {
        "id": "UWhyrd7DApCb",
        "colab": {
          "base_uri": "https://localhost:8080/"
        },
        "outputId": "d790da3c-c34d-4040-cc09-9c2c2b5ef765"
      },
      "execution_count": 16,
      "outputs": [
        {
          "output_type": "stream",
          "name": "stdout",
          "text": [
            "root\n",
            " |-- hotel_name: string (nullable = true)\n",
            " |-- location: string (nullable = true)\n",
            " |-- distance_from_beirut: string (nullable = true)\n",
            " |-- number_reviews: integer (nullable = true)\n",
            " |-- distance_from_beach: string (nullable = true)\n",
            " |-- sustainability_level: string (nullable = true)\n",
            " |-- room_type: string (nullable = true)\n",
            " |-- cancellation_policy: string (nullable = true)\n",
            " |-- hotel_policies: string (nullable = true)\n",
            " |-- rating: double (nullable = true)\n",
            " |-- rating_tile: string (nullable = true)\n",
            " |-- price: string (nullable = true)\n",
            " |-- additional_charges: string (nullable = true)\n",
            " |-- link: string (nullable = true)\n",
            " |-- number_bookings: double (nullable = true)\n",
            " |-- sustainability_nb: string (nullable = true)\n",
            "\n",
            "+--------------------+--------------------+--------------------+--------------+-------------------+--------------------+--------------------+-------------------+--------------------+------+------------+------------------+--------------------+--------------------+---------------+-----------------+\n",
            "|          hotel_name|            location|distance_from_beirut|number_reviews|distance_from_beach|sustainability_level|           room_type|cancellation_policy|      hotel_policies|rating| rating_tile|             price|  additional_charges|                link|number_bookings|sustainability_nb|\n",
            "+--------------------+--------------------+--------------------+--------------+-------------------+--------------------+--------------------+-------------------+--------------------+------+------------+------------------+--------------------+--------------------+---------------+-----------------+\n",
            "|Radisson Blu Hote...|     Verdun , Beirut|    2 km from centre|           980|   400 m from beach|Travel Sustainabl...|       Standard Room|                  0|                  []|   8.8|    Fabulous|          765.3555|+MXN 1,439 taxes ...|https://www.booki...|         2450.0|                2|\n",
            "|Divan Hotel Apart...|       Hamra, Beirut|  1.7 km from centre|           436|  1.6 km from beach|                   0|    Studio Apartment|  Free cancellation|['Free cancellati...|   7.3|        Good|          250.0875|+MXN 470 taxes an...|https://www.booki...|         1090.0|                0|\n",
            "|          Rawsheh 51|     Raouche, Beirut|  2.4 km from centre|             1|   450 m from beach|                   0|                   0|                  0|                  []|   7.8|        Good|                 0|                   0|https://www.booki...|            2.5|                0|\n",
            "|          Rawsheh 51|     Raouche, Beirut|  2.4 km from centre|             1|   450 m from beach|                   0|                   0|                  0|                  []|   7.8|        Good|                 0|                   0|https://www.booki...|            2.5|                0|\n",
            "| The Mayflower Hotel|       Hamra, Beirut|  1.8 km from centre|           751|  1.5 km from beach|Travel Sustainabl...| Standard Queen Room|                  0|                  []|   6.9|Review score|389.90250000000003|+MXN 733 taxes an...|https://www.booki...|         1877.5|                2|\n",
            "|Orient Queen Home...|              Beirut|  1.3 km from centre|             1|    2 km from beach|Travel Sustainabl...|  Deluxe Single Room|  Free cancellation|['Free cancellati...|   7.3|        Good|          712.8225|+MXN 1,340 taxes ...|https://www.booki...|            2.5|                3|\n",
            "| Hamra Urban Gardens|       Hamra, Beirut|  1.3 km from centre|           600|  1.6 km from beach|Travel Sustainabl...|Standard Double Room|  Free cancellation|['Free cancellati...|   8.2|   Very good|           341.406|Includes taxes an...|https://www.booki...|         1500.0|                1|\n",
            "|Bayview Hotel Beirut|              Beirut|  1.1 km from centre|           387|         Beachfront|Travel Sustainabl...|Classic Double Ro...|                  0|                  []|   8.0|   Very good|          720.3105|+MXN 1,354 taxes ...|https://www.booki...|          967.5|                1|\n",
            "|Staybridge Suites...|              Beirut|  1.6 km from centre|           251|  1.1 km from beach|                   0|King Studio Suite...|                  0|                  []|   8.6|    Fabulous| 855.3870000000001|+MXN 1,608 taxes ...|https://www.booki...|          627.5|                0|\n",
            "|Ramada Plaza by W...|              Beirut|  2.5 km from centre|           143|   950 m from beach|Travel Sustainabl...|Classic King Room...|  Free cancellation|['Free cancellati...|   7.9|        Good|           800.397|+MXN 1,505 taxes ...|https://www.booki...|          357.5|                2|\n",
            "|            WH Hotel|              Beirut|  1.7 km from centre|             8|  1.2 km from beach|Travel Sustainabl...|     Executive Suite|  Free cancellation|['Free cancellati...|   8.6|    Fabulous| 675.3240000000001|+MXN 1,270 taxes ...|https://www.booki...|           20.0|                3|\n",
            "|        Padova Hotel|              Beirut|  4.2 km from centre|           262|                  0|                   0|         Double Room|  Free cancellation|['Free cancellati...|   7.9|        Good|500.23350000000005|+MXN 941 taxes an...|https://www.booki...|          655.0|                0|\n",
            "|Four Points By Sh...|     Verdun , Beirut|    2 km from centre|           275|   500 m from beach|Travel Sustainabl...|Classic Room, Gue...|  Free cancellation|['Free cancellati...|   8.0|   Very good|500.23350000000005|+MXN 941 taxes an...|https://www.booki...|          687.5|                1|\n",
            "|Beverly Hotel Beirut|              Beirut|  0.9 km from centre|             1|  2.5 km from beach|                   0|Deluxe King Room ...|  Free cancellation|['Free cancellati...|   8.9|    Fabulous|475.19550000000004|+MXN 894 taxes an...|https://www.booki...|            2.5|                0|\n",
            "|InterContinental ...|              Beirut|  0.7 km from centre|           309|  2.5 km from beach|Travel Sustainabl...|Superior Queen Ro...|                  0|                  []|   8.9|    Fabulous|         1260.6165|+MXN 2,370 taxes ...|https://www.booki...|          772.5|                3|\n",
            "|Royal Tulip Achra...|   Achrafieh, Beirut|  2.5 km from centre|           425|                  0|                   0|    Deluxe King Room|                  0|                  []|   8.1|   Very good| 742.8330000000001|+MXN 1,397 taxes ...|https://www.booki...|         1062.5|                0|\n",
            "|      Arthaus Beirut|              Beirut|  1.2 km from centre|           195|                  0|Travel Sustainabl...|   Small Double Room|                  0|                  []|   8.8|    Fabulous|1913.4180000000001|+MXN 3,598 taxes ...|https://www.booki...|          487.5|                3|\n",
            "|      Hotel De Ville|Ras El Nabaa, Beirut|  1.9 km from centre|           406|  2.8 km from beach|Travel Sustainabl...|Standard Double o...|                  0|                  []|   8.3|   Very good|           517.725|+MXN 974 taxes an...|https://www.booki...|         1015.0|                3|\n",
            "|Raouche Arjaan by...|              Beirut|  2.7 km from centre|           832|  1.1 km from beach|Travel Sustainabl...|City View Studio ...|                  0|                  []|   7.6|        Good|           722.826|+MXN 1,359 taxes ...|https://www.booki...|         2080.0|                2|\n",
            "|Warwick Stone 55 ...|              Beirut|    7 km from centre|           235|                  0|                   0|Standard Deluxe R...|  Free cancellation|['Free cancellati...|   8.6|    Fabulous|          680.2965|+MXN 1,279 taxes ...|https://www.booki...|          587.5|                0|\n",
            "+--------------------+--------------------+--------------------+--------------+-------------------+--------------------+--------------------+-------------------+--------------------+------+------------+------------------+--------------------+--------------------+---------------+-----------------+\n",
            "only showing top 20 rows\n",
            "\n"
          ]
        }
      ]
    },
    {
      "cell_type": "code",
      "source": [
        "df= df.withColumnRenamed(\"rating_tile\", \"rating_title\")\n",
        "\n",
        "df = df.withColumn(\n",
        "    \"summary\",\n",
        "     F.when(\n",
        "        (F.col(\"sustainability_nb\") == \"3\") &\n",
        "        ((F.col(\"rating_title\") == \"Fabulous\") | (F.col(\"rating_title\") == \"Superb\")),\n",
        "        \"Highly Recommended\"\n",
        "    )\n",
        "    .when(\n",
        "        (F.col(\"sustainability_nb\") == \"3\") | (F.col(\"rating_title\").isin(\"Fabulous\", \"Superb\")),\n",
        "        \"Moderately Recommended\"\n",
        "    )\n",
        "    .when(\n",
        "        (F.col(\"sustainability_nb\") == \"2\") | (F.col(\"rating_title\") == \"Very Good\"),\n",
        "        \"Recommended\"\n",
        "    )\n",
        "    .when(\n",
        "        (F.col(\"sustainability_nb\") == \"1\") | (F.col(\"rating_title\") == \"Good\"),\n",
        "        \"Slightly Recommended\"\n",
        "    )\n",
        "    .otherwise(\"Not Recommended\")\n",
        ")\n",
        "\n",
        "df.show()"
      ],
      "metadata": {
        "id": "9dZHX7tOEPFw",
        "colab": {
          "base_uri": "https://localhost:8080/"
        },
        "outputId": "8829f8d4-f009-4ef0-f8dc-4b94262744e9"
      },
      "execution_count": 17,
      "outputs": [
        {
          "output_type": "stream",
          "name": "stdout",
          "text": [
            "+--------------------+--------------------+--------------------+--------------+-------------------+--------------------+--------------------+-------------------+--------------------+------+------------+------------------+--------------------+--------------------+---------------+-----------------+--------------------+\n",
            "|          hotel_name|            location|distance_from_beirut|number_reviews|distance_from_beach|sustainability_level|           room_type|cancellation_policy|      hotel_policies|rating|rating_title|             price|  additional_charges|                link|number_bookings|sustainability_nb|             summary|\n",
            "+--------------------+--------------------+--------------------+--------------+-------------------+--------------------+--------------------+-------------------+--------------------+------+------------+------------------+--------------------+--------------------+---------------+-----------------+--------------------+\n",
            "|Radisson Blu Hote...|     Verdun , Beirut|    2 km from centre|           980|   400 m from beach|Travel Sustainabl...|       Standard Room|                  0|                  []|   8.8|    Fabulous|          765.3555|+MXN 1,439 taxes ...|https://www.booki...|         2450.0|                2|Moderately Recomm...|\n",
            "|Divan Hotel Apart...|       Hamra, Beirut|  1.7 km from centre|           436|  1.6 km from beach|                   0|    Studio Apartment|  Free cancellation|['Free cancellati...|   7.3|        Good|          250.0875|+MXN 470 taxes an...|https://www.booki...|         1090.0|                0|Slightly Recommended|\n",
            "|          Rawsheh 51|     Raouche, Beirut|  2.4 km from centre|             1|   450 m from beach|                   0|                   0|                  0|                  []|   7.8|        Good|                 0|                   0|https://www.booki...|            2.5|                0|Slightly Recommended|\n",
            "|          Rawsheh 51|     Raouche, Beirut|  2.4 km from centre|             1|   450 m from beach|                   0|                   0|                  0|                  []|   7.8|        Good|                 0|                   0|https://www.booki...|            2.5|                0|Slightly Recommended|\n",
            "| The Mayflower Hotel|       Hamra, Beirut|  1.8 km from centre|           751|  1.5 km from beach|Travel Sustainabl...| Standard Queen Room|                  0|                  []|   6.9|Review score|389.90250000000003|+MXN 733 taxes an...|https://www.booki...|         1877.5|                2|         Recommended|\n",
            "|Orient Queen Home...|              Beirut|  1.3 km from centre|             1|    2 km from beach|Travel Sustainabl...|  Deluxe Single Room|  Free cancellation|['Free cancellati...|   7.3|        Good|          712.8225|+MXN 1,340 taxes ...|https://www.booki...|            2.5|                3|Moderately Recomm...|\n",
            "| Hamra Urban Gardens|       Hamra, Beirut|  1.3 km from centre|           600|  1.6 km from beach|Travel Sustainabl...|Standard Double Room|  Free cancellation|['Free cancellati...|   8.2|   Very good|           341.406|Includes taxes an...|https://www.booki...|         1500.0|                1|Slightly Recommended|\n",
            "|Bayview Hotel Beirut|              Beirut|  1.1 km from centre|           387|         Beachfront|Travel Sustainabl...|Classic Double Ro...|                  0|                  []|   8.0|   Very good|          720.3105|+MXN 1,354 taxes ...|https://www.booki...|          967.5|                1|Slightly Recommended|\n",
            "|Staybridge Suites...|              Beirut|  1.6 km from centre|           251|  1.1 km from beach|                   0|King Studio Suite...|                  0|                  []|   8.6|    Fabulous| 855.3870000000001|+MXN 1,608 taxes ...|https://www.booki...|          627.5|                0|Moderately Recomm...|\n",
            "|Ramada Plaza by W...|              Beirut|  2.5 km from centre|           143|   950 m from beach|Travel Sustainabl...|Classic King Room...|  Free cancellation|['Free cancellati...|   7.9|        Good|           800.397|+MXN 1,505 taxes ...|https://www.booki...|          357.5|                2|         Recommended|\n",
            "|            WH Hotel|              Beirut|  1.7 km from centre|             8|  1.2 km from beach|Travel Sustainabl...|     Executive Suite|  Free cancellation|['Free cancellati...|   8.6|    Fabulous| 675.3240000000001|+MXN 1,270 taxes ...|https://www.booki...|           20.0|                3|  Highly Recommended|\n",
            "|        Padova Hotel|              Beirut|  4.2 km from centre|           262|                  0|                   0|         Double Room|  Free cancellation|['Free cancellati...|   7.9|        Good|500.23350000000005|+MXN 941 taxes an...|https://www.booki...|          655.0|                0|Slightly Recommended|\n",
            "|Four Points By Sh...|     Verdun , Beirut|    2 km from centre|           275|   500 m from beach|Travel Sustainabl...|Classic Room, Gue...|  Free cancellation|['Free cancellati...|   8.0|   Very good|500.23350000000005|+MXN 941 taxes an...|https://www.booki...|          687.5|                1|Slightly Recommended|\n",
            "|Beverly Hotel Beirut|              Beirut|  0.9 km from centre|             1|  2.5 km from beach|                   0|Deluxe King Room ...|  Free cancellation|['Free cancellati...|   8.9|    Fabulous|475.19550000000004|+MXN 894 taxes an...|https://www.booki...|            2.5|                0|Moderately Recomm...|\n",
            "|InterContinental ...|              Beirut|  0.7 km from centre|           309|  2.5 km from beach|Travel Sustainabl...|Superior Queen Ro...|                  0|                  []|   8.9|    Fabulous|         1260.6165|+MXN 2,370 taxes ...|https://www.booki...|          772.5|                3|  Highly Recommended|\n",
            "|Royal Tulip Achra...|   Achrafieh, Beirut|  2.5 km from centre|           425|                  0|                   0|    Deluxe King Room|                  0|                  []|   8.1|   Very good| 742.8330000000001|+MXN 1,397 taxes ...|https://www.booki...|         1062.5|                0|     Not Recommended|\n",
            "|      Arthaus Beirut|              Beirut|  1.2 km from centre|           195|                  0|Travel Sustainabl...|   Small Double Room|                  0|                  []|   8.8|    Fabulous|1913.4180000000001|+MXN 3,598 taxes ...|https://www.booki...|          487.5|                3|  Highly Recommended|\n",
            "|      Hotel De Ville|Ras El Nabaa, Beirut|  1.9 km from centre|           406|  2.8 km from beach|Travel Sustainabl...|Standard Double o...|                  0|                  []|   8.3|   Very good|           517.725|+MXN 974 taxes an...|https://www.booki...|         1015.0|                3|Moderately Recomm...|\n",
            "|Raouche Arjaan by...|              Beirut|  2.7 km from centre|           832|  1.1 km from beach|Travel Sustainabl...|City View Studio ...|                  0|                  []|   7.6|        Good|           722.826|+MXN 1,359 taxes ...|https://www.booki...|         2080.0|                2|         Recommended|\n",
            "|Warwick Stone 55 ...|              Beirut|    7 km from centre|           235|                  0|                   0|Standard Deluxe R...|  Free cancellation|['Free cancellati...|   8.6|    Fabulous|          680.2965|+MXN 1,279 taxes ...|https://www.booki...|          587.5|                0|Moderately Recomm...|\n",
            "+--------------------+--------------------+--------------------+--------------+-------------------+--------------------+--------------------+-------------------+--------------------+------+------------+------------------+--------------------+--------------------+---------------+-----------------+--------------------+\n",
            "only showing top 20 rows\n",
            "\n"
          ]
        }
      ]
    },
    {
      "cell_type": "code",
      "source": [
        "df = df.withColumn(\"additional_charges\", F.regexp_replace(F.col(\"additional_charges\"), \"[,](?=\\\\d+)\", \"\"))\n",
        "\n",
        "df = df.withColumn(\"charges\", F.regexp_extract(df[\"additional_charges\"], r\"(\\d+)\", 1))\n",
        "df= df.withColumn(\"charges\", F.col(\"charges\").cast(\"Integer\"))\n",
        "df= df.withColumn(\"charges_converted\", F.col(\"charges\")* 0.0585)\n",
        "df= df.withColumn(\"charges_converted\", F.round(\"charges_converted\"))\n",
        "df= df.withColumn(\"price\", F.round(\"price\"))\n",
        "df= df.drop(\"sustainability_level\", \"additional_charges\", \"charges\")\n",
        "df = df.withColumn(\"average_price\",  F.col(\"price\")+ F.col(\"charges_converted\"))\n",
        "df= df.fillna(0)\n",
        "\n",
        "df.printSchema()\n",
        "\n",
        "df.show()"
      ],
      "metadata": {
        "id": "hD15K-MwRvoW",
        "colab": {
          "base_uri": "https://localhost:8080/"
        },
        "outputId": "e482ee26-bd4a-474e-d0f9-88050339d4d3"
      },
      "execution_count": 18,
      "outputs": [
        {
          "output_type": "stream",
          "name": "stdout",
          "text": [
            "root\n",
            " |-- hotel_name: string (nullable = true)\n",
            " |-- location: string (nullable = true)\n",
            " |-- distance_from_beirut: string (nullable = true)\n",
            " |-- number_reviews: integer (nullable = true)\n",
            " |-- distance_from_beach: string (nullable = true)\n",
            " |-- room_type: string (nullable = true)\n",
            " |-- cancellation_policy: string (nullable = true)\n",
            " |-- hotel_policies: string (nullable = true)\n",
            " |-- rating: double (nullable = false)\n",
            " |-- rating_title: string (nullable = true)\n",
            " |-- price: double (nullable = false)\n",
            " |-- link: string (nullable = true)\n",
            " |-- number_bookings: double (nullable = false)\n",
            " |-- sustainability_nb: string (nullable = true)\n",
            " |-- summary: string (nullable = false)\n",
            " |-- charges_converted: double (nullable = false)\n",
            " |-- average_price: double (nullable = false)\n",
            "\n",
            "+--------------------+--------------------+--------------------+--------------+-------------------+--------------------+-------------------+--------------------+------+------------+------+--------------------+---------------+-----------------+--------------------+-----------------+-------------+\n",
            "|          hotel_name|            location|distance_from_beirut|number_reviews|distance_from_beach|           room_type|cancellation_policy|      hotel_policies|rating|rating_title| price|                link|number_bookings|sustainability_nb|             summary|charges_converted|average_price|\n",
            "+--------------------+--------------------+--------------------+--------------+-------------------+--------------------+-------------------+--------------------+------+------------+------+--------------------+---------------+-----------------+--------------------+-----------------+-------------+\n",
            "|Radisson Blu Hote...|     Verdun , Beirut|    2 km from centre|           980|   400 m from beach|       Standard Room|                  0|                  []|   8.8|    Fabulous| 765.0|https://www.booki...|         2450.0|                2|Moderately Recomm...|             84.0|        849.0|\n",
            "|Divan Hotel Apart...|       Hamra, Beirut|  1.7 km from centre|           436|  1.6 km from beach|    Studio Apartment|  Free cancellation|['Free cancellati...|   7.3|        Good| 250.0|https://www.booki...|         1090.0|                0|Slightly Recommended|             27.0|        277.0|\n",
            "|          Rawsheh 51|     Raouche, Beirut|  2.4 km from centre|             1|   450 m from beach|                   0|                  0|                  []|   7.8|        Good|   0.0|https://www.booki...|            2.5|                0|Slightly Recommended|              0.0|          0.0|\n",
            "|          Rawsheh 51|     Raouche, Beirut|  2.4 km from centre|             1|   450 m from beach|                   0|                  0|                  []|   7.8|        Good|   0.0|https://www.booki...|            2.5|                0|Slightly Recommended|              0.0|          0.0|\n",
            "| The Mayflower Hotel|       Hamra, Beirut|  1.8 km from centre|           751|  1.5 km from beach| Standard Queen Room|                  0|                  []|   6.9|Review score| 390.0|https://www.booki...|         1877.5|                2|         Recommended|             43.0|        433.0|\n",
            "|Orient Queen Home...|              Beirut|  1.3 km from centre|             1|    2 km from beach|  Deluxe Single Room|  Free cancellation|['Free cancellati...|   7.3|        Good| 713.0|https://www.booki...|            2.5|                3|Moderately Recomm...|             78.0|        791.0|\n",
            "| Hamra Urban Gardens|       Hamra, Beirut|  1.3 km from centre|           600|  1.6 km from beach|Standard Double Room|  Free cancellation|['Free cancellati...|   8.2|   Very good| 341.0|https://www.booki...|         1500.0|                1|Slightly Recommended|              0.0|          0.0|\n",
            "|Bayview Hotel Beirut|              Beirut|  1.1 km from centre|           387|         Beachfront|Classic Double Ro...|                  0|                  []|   8.0|   Very good| 720.0|https://www.booki...|          967.5|                1|Slightly Recommended|             79.0|        799.0|\n",
            "|Staybridge Suites...|              Beirut|  1.6 km from centre|           251|  1.1 km from beach|King Studio Suite...|                  0|                  []|   8.6|    Fabulous| 855.0|https://www.booki...|          627.5|                0|Moderately Recomm...|             94.0|        949.0|\n",
            "|Ramada Plaza by W...|              Beirut|  2.5 km from centre|           143|   950 m from beach|Classic King Room...|  Free cancellation|['Free cancellati...|   7.9|        Good| 800.0|https://www.booki...|          357.5|                2|         Recommended|             88.0|        888.0|\n",
            "|            WH Hotel|              Beirut|  1.7 km from centre|             8|  1.2 km from beach|     Executive Suite|  Free cancellation|['Free cancellati...|   8.6|    Fabulous| 675.0|https://www.booki...|           20.0|                3|  Highly Recommended|             74.0|        749.0|\n",
            "|        Padova Hotel|              Beirut|  4.2 km from centre|           262|                  0|         Double Room|  Free cancellation|['Free cancellati...|   7.9|        Good| 500.0|https://www.booki...|          655.0|                0|Slightly Recommended|             55.0|        555.0|\n",
            "|Four Points By Sh...|     Verdun , Beirut|    2 km from centre|           275|   500 m from beach|Classic Room, Gue...|  Free cancellation|['Free cancellati...|   8.0|   Very good| 500.0|https://www.booki...|          687.5|                1|Slightly Recommended|             55.0|        555.0|\n",
            "|Beverly Hotel Beirut|              Beirut|  0.9 km from centre|             1|  2.5 km from beach|Deluxe King Room ...|  Free cancellation|['Free cancellati...|   8.9|    Fabulous| 475.0|https://www.booki...|            2.5|                0|Moderately Recomm...|             52.0|        527.0|\n",
            "|InterContinental ...|              Beirut|  0.7 km from centre|           309|  2.5 km from beach|Superior Queen Ro...|                  0|                  []|   8.9|    Fabulous|1261.0|https://www.booki...|          772.5|                3|  Highly Recommended|            139.0|       1400.0|\n",
            "|Royal Tulip Achra...|   Achrafieh, Beirut|  2.5 km from centre|           425|                  0|    Deluxe King Room|                  0|                  []|   8.1|   Very good| 743.0|https://www.booki...|         1062.5|                0|     Not Recommended|             82.0|        825.0|\n",
            "|      Arthaus Beirut|              Beirut|  1.2 km from centre|           195|                  0|   Small Double Room|                  0|                  []|   8.8|    Fabulous|1913.0|https://www.booki...|          487.5|                3|  Highly Recommended|            210.0|       2123.0|\n",
            "|      Hotel De Ville|Ras El Nabaa, Beirut|  1.9 km from centre|           406|  2.8 km from beach|Standard Double o...|                  0|                  []|   8.3|   Very good| 518.0|https://www.booki...|         1015.0|                3|Moderately Recomm...|             57.0|        575.0|\n",
            "|Raouche Arjaan by...|              Beirut|  2.7 km from centre|           832|  1.1 km from beach|City View Studio ...|                  0|                  []|   7.6|        Good| 723.0|https://www.booki...|         2080.0|                2|         Recommended|             80.0|        803.0|\n",
            "|Warwick Stone 55 ...|              Beirut|    7 km from centre|           235|                  0|Standard Deluxe R...|  Free cancellation|['Free cancellati...|   8.6|    Fabulous| 680.0|https://www.booki...|          587.5|                0|Moderately Recomm...|             75.0|        755.0|\n",
            "+--------------------+--------------------+--------------------+--------------+-------------------+--------------------+-------------------+--------------------+------+------------+------+--------------------+---------------+-----------------+--------------------+-----------------+-------------+\n",
            "only showing top 20 rows\n",
            "\n"
          ]
        }
      ]
    },
    {
      "cell_type": "code",
      "source": [
        "# around 57% of hotel bookings are made online so these numbers are only restricted to online bookings so I'm going to calculate the number of bookings on average\n",
        "\n",
        "df= df.withColumn(\"total_bookings\", ((100*F.col(\"number_bookings\"))/57))\n",
        "df= df.withColumn(\"total_bookings\", F.round(\"total_bookings\"))\n",
        "\n",
        "df.show(45)\n",
        "\n",
        "df.write.csv(\"output.csv\", header=True, mode=\"overwrite\")\n"
      ],
      "metadata": {
        "id": "qJrfSPGTeJwg",
        "colab": {
          "base_uri": "https://localhost:8080/"
        },
        "outputId": "6efd2f3e-630b-43ae-9bda-ec6aec451ace"
      },
      "execution_count": 19,
      "outputs": [
        {
          "output_type": "stream",
          "name": "stdout",
          "text": [
            "+--------------------+--------------------+--------------------+--------------+-------------------+--------------------+-------------------+--------------------+------+------------+------+--------------------+---------------+-----------------+--------------------+-----------------+-------------+--------------+\n",
            "|          hotel_name|            location|distance_from_beirut|number_reviews|distance_from_beach|           room_type|cancellation_policy|      hotel_policies|rating|rating_title| price|                link|number_bookings|sustainability_nb|             summary|charges_converted|average_price|total_bookings|\n",
            "+--------------------+--------------------+--------------------+--------------+-------------------+--------------------+-------------------+--------------------+------+------------+------+--------------------+---------------+-----------------+--------------------+-----------------+-------------+--------------+\n",
            "|Radisson Blu Hote...|     Verdun , Beirut|    2 km from centre|           980|   400 m from beach|       Standard Room|                  0|                  []|   8.8|    Fabulous| 765.0|https://www.booki...|         2450.0|                2|Moderately Recomm...|             84.0|        849.0|        4298.0|\n",
            "|Divan Hotel Apart...|       Hamra, Beirut|  1.7 km from centre|           436|  1.6 km from beach|    Studio Apartment|  Free cancellation|['Free cancellati...|   7.3|        Good| 250.0|https://www.booki...|         1090.0|                0|Slightly Recommended|             27.0|        277.0|        1912.0|\n",
            "|          Rawsheh 51|     Raouche, Beirut|  2.4 km from centre|             1|   450 m from beach|                   0|                  0|                  []|   7.8|        Good|   0.0|https://www.booki...|            2.5|                0|Slightly Recommended|              0.0|          0.0|           4.0|\n",
            "|          Rawsheh 51|     Raouche, Beirut|  2.4 km from centre|             1|   450 m from beach|                   0|                  0|                  []|   7.8|        Good|   0.0|https://www.booki...|            2.5|                0|Slightly Recommended|              0.0|          0.0|           4.0|\n",
            "| The Mayflower Hotel|       Hamra, Beirut|  1.8 km from centre|           751|  1.5 km from beach| Standard Queen Room|                  0|                  []|   6.9|Review score| 390.0|https://www.booki...|         1877.5|                2|         Recommended|             43.0|        433.0|        3294.0|\n",
            "|Orient Queen Home...|              Beirut|  1.3 km from centre|             1|    2 km from beach|  Deluxe Single Room|  Free cancellation|['Free cancellati...|   7.3|        Good| 713.0|https://www.booki...|            2.5|                3|Moderately Recomm...|             78.0|        791.0|           4.0|\n",
            "| Hamra Urban Gardens|       Hamra, Beirut|  1.3 km from centre|           600|  1.6 km from beach|Standard Double Room|  Free cancellation|['Free cancellati...|   8.2|   Very good| 341.0|https://www.booki...|         1500.0|                1|Slightly Recommended|              0.0|          0.0|        2632.0|\n",
            "|Bayview Hotel Beirut|              Beirut|  1.1 km from centre|           387|         Beachfront|Classic Double Ro...|                  0|                  []|   8.0|   Very good| 720.0|https://www.booki...|          967.5|                1|Slightly Recommended|             79.0|        799.0|        1697.0|\n",
            "|Staybridge Suites...|              Beirut|  1.6 km from centre|           251|  1.1 km from beach|King Studio Suite...|                  0|                  []|   8.6|    Fabulous| 855.0|https://www.booki...|          627.5|                0|Moderately Recomm...|             94.0|        949.0|        1101.0|\n",
            "|Ramada Plaza by W...|              Beirut|  2.5 km from centre|           143|   950 m from beach|Classic King Room...|  Free cancellation|['Free cancellati...|   7.9|        Good| 800.0|https://www.booki...|          357.5|                2|         Recommended|             88.0|        888.0|         627.0|\n",
            "|            WH Hotel|              Beirut|  1.7 km from centre|             8|  1.2 km from beach|     Executive Suite|  Free cancellation|['Free cancellati...|   8.6|    Fabulous| 675.0|https://www.booki...|           20.0|                3|  Highly Recommended|             74.0|        749.0|          35.0|\n",
            "|        Padova Hotel|              Beirut|  4.2 km from centre|           262|                  0|         Double Room|  Free cancellation|['Free cancellati...|   7.9|        Good| 500.0|https://www.booki...|          655.0|                0|Slightly Recommended|             55.0|        555.0|        1149.0|\n",
            "|Four Points By Sh...|     Verdun , Beirut|    2 km from centre|           275|   500 m from beach|Classic Room, Gue...|  Free cancellation|['Free cancellati...|   8.0|   Very good| 500.0|https://www.booki...|          687.5|                1|Slightly Recommended|             55.0|        555.0|        1206.0|\n",
            "|Beverly Hotel Beirut|              Beirut|  0.9 km from centre|             1|  2.5 km from beach|Deluxe King Room ...|  Free cancellation|['Free cancellati...|   8.9|    Fabulous| 475.0|https://www.booki...|            2.5|                0|Moderately Recomm...|             52.0|        527.0|           4.0|\n",
            "|InterContinental ...|              Beirut|  0.7 km from centre|           309|  2.5 km from beach|Superior Queen Ro...|                  0|                  []|   8.9|    Fabulous|1261.0|https://www.booki...|          772.5|                3|  Highly Recommended|            139.0|       1400.0|        1355.0|\n",
            "|Royal Tulip Achra...|   Achrafieh, Beirut|  2.5 km from centre|           425|                  0|    Deluxe King Room|                  0|                  []|   8.1|   Very good| 743.0|https://www.booki...|         1062.5|                0|     Not Recommended|             82.0|        825.0|        1864.0|\n",
            "|      Arthaus Beirut|              Beirut|  1.2 km from centre|           195|                  0|   Small Double Room|                  0|                  []|   8.8|    Fabulous|1913.0|https://www.booki...|          487.5|                3|  Highly Recommended|            210.0|       2123.0|         855.0|\n",
            "|      Hotel De Ville|Ras El Nabaa, Beirut|  1.9 km from centre|           406|  2.8 km from beach|Standard Double o...|                  0|                  []|   8.3|   Very good| 518.0|https://www.booki...|         1015.0|                3|Moderately Recomm...|             57.0|        575.0|        1781.0|\n",
            "|Raouche Arjaan by...|              Beirut|  2.7 km from centre|           832|  1.1 km from beach|City View Studio ...|                  0|                  []|   7.6|        Good| 723.0|https://www.booki...|         2080.0|                2|         Recommended|             80.0|        803.0|        3649.0|\n",
            "|Warwick Stone 55 ...|              Beirut|    7 km from centre|           235|                  0|Standard Deluxe R...|  Free cancellation|['Free cancellati...|   8.6|    Fabulous| 680.0|https://www.booki...|          587.5|                0|Moderately Recomm...|             75.0|        755.0|        1031.0|\n",
            "|Radisson Blu Mart...|              Beirut|  0.9 km from centre|             1|  2.3 km from beach|       Standard Room|  Free cancellation|['Free cancellati...|   8.3|   Very good| 950.0|https://www.booki...|            2.5|                2|         Recommended|            105.0|       1055.0|           4.0|\n",
            "|          Eden Hotel|              Beirut|  5.8 km from centre|           142|                  0|  Deluxe Double Room|                  0|                  []|   7.6|        Good| 405.0|https://www.booki...|          355.0|                0|Slightly Recommended|              0.0|          0.0|         623.0|\n",
            "|Crowne Plaza Hamr...|       Hamra, Beirut|  1.9 km from centre|           356|  1.4 km from beach|Standard Double o...|                  0|                  []|   7.1|        Good| 638.0|https://www.booki...|          890.0|                0|Slightly Recommended|             70.0|        708.0|        1561.0|\n",
            "|Kempinski Summerl...|              Beirut|  3.6 km from centre|           467|         Beachfront|Superior Room wit...|  Free cancellation|['Free cancellati...|   8.6|    Fabulous|1851.0|https://www.booki...|         1167.5|                2|Moderately Recomm...|            204.0|       2055.0|        2048.0|\n",
            "|   Citea Apart Hotel|   Achrafieh, Beirut|  2.4 km from centre|           164|                  0|       Deluxe Studio|                  0|                  []|   9.0|      Superb| 680.0|https://www.booki...|          410.0|                2|Moderately Recomm...|             75.0|        755.0|         719.0|\n",
            "|      Arthaus Beirut|              Beirut|  1.2 km from centre|           195|                  0|   Small Double Room|                  0|                  []|   8.8|    Fabulous|1913.0|https://www.booki...|          487.5|                3|  Highly Recommended|            210.0|       2123.0|         855.0|\n",
            "|Ramada by Wyndham...|Downtown Beirut, ...|   400 m from centre|           601|  2.7 km from beach|Standard King Roo...|  Free cancellation|['Free cancellati...|   8.9|    Fabulous|1101.0|https://www.booki...|         1502.5|                2|Moderately Recomm...|            121.0|       1222.0|        2636.0|\n",
            "|Urban Central Sui...|              Beirut|  4.4 km from centre|           163|                  0|Junior Suite King...|                  0|                  []|   8.3|   Very good| 415.0|https://www.booki...|          407.5|                0|     Not Recommended|             46.0|        461.0|         715.0|\n",
            "|  Three O Nine Hotel|       Hamra, Beirut|  1.7 km from centre|           417|  1.7 km from beach|  Deluxe Double Room|  Free cancellation|['Free cancellati...|   8.3|   Very good| 525.0|https://www.booki...|         1042.5|                0|     Not Recommended|             58.0|        583.0|        1829.0|\n",
            "|  Plaza Hotel Beirut|       Hamra, Beirut|    2 km from centre|           197|  1.4 km from beach|    Deluxe Twin Room|                  0|                  []|   7.6|        Good| 395.0|https://www.booki...|          492.5|                3|Moderately Recomm...|             43.0|        438.0|         864.0|\n",
            "|Sofitel Beirut Le...|   Achrafieh, Beirut|  1.8 km from centre|           180|                  0|    Luxury King Room|                  0|                  []|   8.5|   Very good| 960.0|https://www.booki...|          450.0|                1|Slightly Recommended|            106.0|       1066.0|         789.0|\n",
            "|   The J Hotel & Spa|       Hamra, Beirut|  1.7 km from centre|           287|  1.4 km from beach|       Standard Room|  Free cancellation|['Free cancellati...|   8.0|   Very good| 325.0|https://www.booki...|          717.5|                1|Slightly Recommended|             36.0|        361.0|        1259.0|\n",
            "|Bliss 3000 Furnis...|       Hamra, Beirut|  2.1 km from centre|            98|  1.7 km from beach|     Standard Studio|                  0|                  []|   5.9|Review score| 284.0|https://www.booki...|          245.0|                0|     Not Recommended|             31.0|        315.0|         430.0|\n",
            "|Bayview Hotel Beirut|              Beirut|  1.1 km from centre|           387|         Beachfront|Classic Double Ro...|                  0|                  []|   8.0|   Very good| 720.0|https://www.booki...|          967.5|                1|Slightly Recommended|             79.0|        799.0|        1697.0|\n",
            "|The Smallville Hotel|              Beirut|  2.6 km from centre|           324|                  0|    Deluxe King Room|  Free cancellation|['Free cancellati...|   8.4|   Very good| 905.0|https://www.booki...|          810.0|                3|Moderately Recomm...|            100.0|       1005.0|        1421.0|\n",
            "|  Lancaster Eden Bay|              Beirut|  3.1 km from centre|           518|         Beachfront|     Deluxe Bay Room|                  0|                  []|   8.3|   Very good|1688.0|https://www.booki...|         1295.0|                0|     Not Recommended|            186.0|       1874.0|        2272.0|\n",
            "|   Palm Ville Suites|              Beirut|  2.4 km from centre|           157|  1.4 km from beach|Deluxe Double Roo...|                  0|                  []|   7.9|        Good| 474.0|https://www.booki...|          392.5|                2|         Recommended|              0.0|          0.0|         689.0|\n",
            "|Midtown Hotel & S...|       Hamra, Beirut|  1.5 km from centre|           246|  1.6 km from beach|    Deluxe King Room|                  0|                  []|   7.8|        Good| 393.0|https://www.booki...|          615.0|                0|Slightly Recommended|             43.0|        436.0|        1079.0|\n",
            "|Serenada Golden P...|       Hamra, Beirut|  1.5 km from centre|           371|  1.5 km from beach|    Deluxe King Room|                  0|                  []|   8.4|   Very good| 475.0|https://www.booki...|          927.5|                2|         Recommended|             52.0|        527.0|        1627.0|\n",
            "|       Albergo Hotel|   Achrafieh, Beirut|  1.3 km from centre|           227|  2.9 km from beach|      Standard Suite|  Free cancellation|['Free cancellati...|   9.1|      Superb|2351.0|https://www.booki...|          567.5|                0|Moderately Recomm...|            259.0|       2610.0|         996.0|\n",
            "+--------------------+--------------------+--------------------+--------------+-------------------+--------------------+-------------------+--------------------+------+------------+------+--------------------+---------------+-----------------+--------------------+-----------------+-------------+--------------+\n",
            "\n"
          ]
        }
      ]
    },
    {
      "cell_type": "code",
      "source": [
        "# Machine Learning Analysis\n",
        "\n",
        "from pyspark.sql.types import StructType, StructField, StringType, DoubleType\n",
        "from pyspark.sql import SparkSession\n",
        "\n",
        "spark2 = SparkSession.builder.appName(\"EmptyDataFrame\").getOrCreate()\n",
        "\n",
        "#  schema of the DataFrame\n",
        "schema = StructType([\n",
        "   StructField(\"col_used\", StringType(), True),\n",
        "   StructField(\"corr\", DoubleType(), True),\n",
        "])\n",
        "\n",
        "empty_df = spark2.createDataFrame([], schema)\n",
        "empty_df.show(10)\n",
        "\n",
        "a= df.corr(\"number_bookings\",\"number_reviews\")\n",
        "b= df.corr(\"number_bookings\",\"total_bookings\")\n",
        "c= df.corr(\"number_bookings\",\"rating\")\n",
        "d= df.corr(\"number_bookings\",\"price\")\n",
        "e= df.corr(\"number_bookings\",\"number_bookings\")\n",
        "f= df.corr(\"number_bookings\",\"charges_converted\")\n",
        "g= df.corr(\"number_bookings\",\"average_price\")\n",
        "\n",
        "list= [[\"number_reviews\", a],\n",
        "       [\"total_bookings\", b],\n",
        "       [\"rating\", c],\n",
        "       [\"price\", d],\n",
        "       [\"number_bookings\", e],\n",
        "       [\"charges_converted\", f],\n",
        "       [\"average_price\", g]\n",
        "\n",
        "]\n",
        "\n",
        "df_list= spark.createDataFrame(list)\n",
        "\n",
        "empty_df = empty_df.union(df_list)\n",
        "\n",
        "from pyspark.sql.functions import desc\n",
        "\n",
        "empty_df= empty_df.orderBy(desc(\"corr\"))\n",
        "empty_df.show()\n",
        "\n",
        "\n",
        "\n",
        "from pyspark.ml.feature import VectorAssembler\n",
        "from pyspark.ml.regression import LinearRegression\n",
        "from pyspark.ml import Pipeline\n",
        "\n",
        "feature_columns = [\"number_reviews\", \"total_bookings\", \"rating\", \"price\", \"number_bookings\", \"charges_converted\", \"average_price\"]\n",
        "assembler = VectorAssembler(inputCols=feature_columns, outputCol=\"features\")\n",
        "lr = LinearRegression(featuresCol=\"features\", labelCol=\"expected_number_of_bookings\")\n",
        "\n",
        "pipeline = Pipeline(stages=[assembler, lr])\n",
        "\n",
        "input_data = spark.read.csv(\"input_data.csv\", header=True, inferSchema=True)\n",
        "input_data= input_data.drop(\"hotel_name\")\n",
        "model = pipeline.fit(input_data)\n",
        "\n",
        "\n",
        "#testing model\n",
        "predictions = model.transform(df)\n",
        "\n",
        "predictions.show()\n",
        "\n"
      ],
      "metadata": {
        "id": "vNIVxs1ZgIbl",
        "colab": {
          "base_uri": "https://localhost:8080/"
        },
        "outputId": "703c0767-7e1d-4fdd-d9ac-97a640b23a93"
      },
      "execution_count": 21,
      "outputs": [
        {
          "output_type": "stream",
          "name": "stdout",
          "text": [
            "+--------+----+\n",
            "|col_used|corr|\n",
            "+--------+----+\n",
            "+--------+----+\n",
            "\n",
            "+-----------------+-------------------+\n",
            "|         col_used|               corr|\n",
            "+-----------------+-------------------+\n",
            "|  number_bookings|                1.0|\n",
            "|   number_reviews| 0.9999999999999997|\n",
            "|   total_bookings| 0.9999999681304019|\n",
            "|charges_converted|0.10531164938116573|\n",
            "|    average_price|0.10473463046277624|\n",
            "|            price|0.10451223182327249|\n",
            "|           rating|0.02181625846500293|\n",
            "+-----------------+-------------------+\n",
            "\n",
            "+--------------------+--------------------+--------------------+--------------+-------------------+--------------------+-------------------+--------------------+------+------------+------+--------------------+---------------+-----------------+--------------------+-----------------+-------------+--------------+--------------------+------------------+\n",
            "|          hotel_name|            location|distance_from_beirut|number_reviews|distance_from_beach|           room_type|cancellation_policy|      hotel_policies|rating|rating_title| price|                link|number_bookings|sustainability_nb|             summary|charges_converted|average_price|total_bookings|            features|        prediction|\n",
            "+--------------------+--------------------+--------------------+--------------+-------------------+--------------------+-------------------+--------------------+------+------------+------+--------------------+---------------+-----------------+--------------------+-----------------+-------------+--------------+--------------------+------------------+\n",
            "|Radisson Blu Hote...|     Verdun , Beirut|    2 km from centre|           980|   400 m from beach|       Standard Room|                  0|                  []|   8.8|    Fabulous| 765.0|https://www.booki...|         2450.0|                2|Moderately Recomm...|             84.0|        849.0|        4298.0|[980.0,4298.0,8.8...|1541.8655935824445|\n",
            "|Divan Hotel Apart...|       Hamra, Beirut|  1.7 km from centre|           436|  1.6 km from beach|    Studio Apartment|  Free cancellation|['Free cancellati...|   7.3|        Good| 250.0|https://www.booki...|         1090.0|                0|Slightly Recommended|             27.0|        277.0|        1912.0|[436.0,1912.0,7.3...|3189.9661280553323|\n",
            "|          Rawsheh 51|     Raouche, Beirut|  2.4 km from centre|             1|   450 m from beach|                   0|                  0|                  []|   7.8|        Good|   0.0|https://www.booki...|            2.5|                0|Slightly Recommended|              0.0|          0.0|           4.0|[1.0,4.0,7.8,0.0,...|3841.7826882879417|\n",
            "|          Rawsheh 51|     Raouche, Beirut|  2.4 km from centre|             1|   450 m from beach|                   0|                  0|                  []|   7.8|        Good|   0.0|https://www.booki...|            2.5|                0|Slightly Recommended|              0.0|          0.0|           4.0|[1.0,4.0,7.8,0.0,...|3841.7826882879417|\n",
            "| The Mayflower Hotel|       Hamra, Beirut|  1.8 km from centre|           751|  1.5 km from beach| Standard Queen Room|                  0|                  []|   6.9|Review score| 390.0|https://www.booki...|         1877.5|                2|         Recommended|             43.0|        433.0|        3294.0|[751.0,3294.0,6.9...|3086.6484648768724|\n",
            "|Orient Queen Home...|              Beirut|  1.3 km from centre|             1|    2 km from beach|  Deluxe Single Room|  Free cancellation|['Free cancellati...|   7.3|        Good| 713.0|https://www.booki...|            2.5|                3|Moderately Recomm...|             78.0|        791.0|           4.0|[1.0,4.0,7.3,713....| 3359.917986547236|\n",
            "| Hamra Urban Gardens|       Hamra, Beirut|  1.3 km from centre|           600|  1.6 km from beach|Standard Double Room|  Free cancellation|['Free cancellati...|   8.2|   Very good| 341.0|https://www.booki...|         1500.0|                1|Slightly Recommended|              0.0|          0.0|        2632.0|[600.0,2632.0,8.2...|3306.1567060023935|\n",
            "|Bayview Hotel Beirut|              Beirut|  1.1 km from centre|           387|         Beachfront|Classic Double Ro...|                  0|                  []|   8.0|   Very good| 720.0|https://www.booki...|          967.5|                1|Slightly Recommended|             79.0|        799.0|        1697.0|[387.0,1697.0,8.0...|2544.5653266864415|\n",
            "|Staybridge Suites...|              Beirut|  1.6 km from centre|           251|  1.1 km from beach|King Studio Suite...|                  0|                  []|   8.6|    Fabulous| 855.0|https://www.booki...|          627.5|                0|Moderately Recomm...|             94.0|        949.0|        1101.0|[251.0,1101.0,8.6...|3433.7517367938863|\n",
            "|Ramada Plaza by W...|              Beirut|  2.5 km from centre|           143|   950 m from beach|Classic King Room...|  Free cancellation|['Free cancellati...|   7.9|        Good| 800.0|https://www.booki...|          357.5|                2|         Recommended|             88.0|        888.0|         627.0|[143.0,627.0,7.9,...| 3178.670647193016|\n",
            "|            WH Hotel|              Beirut|  1.7 km from centre|             8|  1.2 km from beach|     Executive Suite|  Free cancellation|['Free cancellati...|   8.6|    Fabulous| 675.0|https://www.booki...|           20.0|                3|  Highly Recommended|             74.0|        749.0|          35.0|[8.0,35.0,8.6,675...| 3732.679640266145|\n",
            "|        Padova Hotel|              Beirut|  4.2 km from centre|           262|                  0|         Double Room|  Free cancellation|['Free cancellati...|   7.9|        Good| 500.0|https://www.booki...|          655.0|                0|Slightly Recommended|             55.0|        555.0|        1149.0|[262.0,1149.0,7.9...|3357.8384945790913|\n",
            "|Four Points By Sh...|     Verdun , Beirut|    2 km from centre|           275|   500 m from beach|Classic Room, Gue...|  Free cancellation|['Free cancellati...|   8.0|   Very good| 500.0|https://www.booki...|          687.5|                1|Slightly Recommended|             55.0|        555.0|        1206.0|[275.0,1206.0,8.0...|3293.9168029531593|\n",
            "|Beverly Hotel Beirut|              Beirut|  0.9 km from centre|             1|  2.5 km from beach|Deluxe King Room ...|  Free cancellation|['Free cancellati...|   8.9|    Fabulous| 475.0|https://www.booki...|            2.5|                0|Moderately Recomm...|             52.0|        527.0|           4.0|[1.0,4.0,8.9,475....|3377.3121624271444|\n",
            "|InterContinental ...|              Beirut|  0.7 km from centre|           309|  2.5 km from beach|Superior Queen Ro...|                  0|                  []|   8.9|    Fabulous|1261.0|https://www.booki...|          772.5|                3|  Highly Recommended|            139.0|       1400.0|        1355.0|[309.0,1355.0,8.9...|2152.7297034988665|\n",
            "|Royal Tulip Achra...|   Achrafieh, Beirut|  2.5 km from centre|           425|                  0|    Deluxe King Room|                  0|                  []|   8.1|   Very good| 743.0|https://www.booki...|         1062.5|                0|     Not Recommended|             82.0|        825.0|        1864.0|[425.0,1864.0,8.1...| 2893.874794606111|\n",
            "|      Arthaus Beirut|              Beirut|  1.2 km from centre|           195|                  0|   Small Double Room|                  0|                  []|   8.8|    Fabulous|1913.0|https://www.booki...|          487.5|                3|  Highly Recommended|            210.0|       2123.0|         855.0|[195.0,855.0,8.8,...|1982.4359524833335|\n",
            "|      Hotel De Ville|Ras El Nabaa, Beirut|  1.9 km from centre|           406|  2.8 km from beach|Standard Double o...|                  0|                  []|   8.3|   Very good| 518.0|https://www.booki...|         1015.0|                3|Moderately Recomm...|             57.0|        575.0|        1781.0|[406.0,1781.0,8.3...|3773.0440952273802|\n",
            "|Raouche Arjaan by...|              Beirut|  2.7 km from centre|           832|  1.1 km from beach|City View Studio ...|                  0|                  []|   7.6|        Good| 723.0|https://www.booki...|         2080.0|                2|         Recommended|             80.0|        803.0|        3649.0|[832.0,3649.0,7.6...|1999.9324924914413|\n",
            "|Warwick Stone 55 ...|              Beirut|    7 km from centre|           235|                  0|Standard Deluxe R...|  Free cancellation|['Free cancellati...|   8.6|    Fabulous| 680.0|https://www.booki...|          587.5|                0|Moderately Recomm...|             75.0|        755.0|        1031.0|[235.0,1031.0,8.6...|3858.9618097050334|\n",
            "+--------------------+--------------------+--------------------+--------------+-------------------+--------------------+-------------------+--------------------+------+------------+------+--------------------+---------------+-----------------+--------------------+-----------------+-------------+--------------+--------------------+------------------+\n",
            "only showing top 20 rows\n",
            "\n"
          ]
        }
      ]
    }
  ]
}